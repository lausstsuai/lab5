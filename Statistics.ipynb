{
 "cells": [
  {
   "cell_type": "code",
   "execution_count": 37,
   "metadata": {
    "collapsed": true
   },
   "outputs": [],
   "source": [
    "from scipy import stats\n",
    "import numpy"
   ]
  },
  {
   "cell_type": "code",
   "execution_count": 20,
   "metadata": {
    "collapsed": true
   },
   "outputs": [],
   "source": [
    "def t_test( data_ori, data_mod): # T test for the time each participant spend to view original pics and modified pics\n",
    "    return stats.ttest_ind(data_ori,data_mod)"
   ]
  },
  {
   "cell_type": "code",
   "execution_count": 21,
   "metadata": {
    "collapsed": false,
    "scrolled": true
   },
   "outputs": [
    {
     "name": "stdout",
     "output_type": "stream",
     "text": [
      "Ttest_indResult(statistic=-0.44776673559449487, pvalue=0.67003467339766853)\n"
     ]
    }
   ],
   "source": [
    "result_t = t_test([3.4,2.5,1.3,6.4], [9.0,12,2.7,4.3]) \n",
    "print result "
   ]
  },
  {
   "cell_type": "code",
   "execution_count": 22,
   "metadata": {
    "collapsed": false
   },
   "outputs": [],
   "source": [
    "def chi_sq_test(likes_ori, likes_mod, num_par_ori, num_par_mod, pics_page): # Chi squared test for \"likes\" received\n",
    "    # expected values\n",
    "    expected_like = likes_ori / num_par_ori * num_par_mod \n",
    "    expected_dislike = (pics_page * num_par_ori - likes_ori) / num_par_ori * num_par_mod\n",
    "    # observed likes and dislikes for the modified pictures\n",
    "    observed_like = likes_mod\n",
    "    observed_dislike = pics_page * num_par_mod - observed_like\n",
    "    res = (observed_like - expected_like)**2 / expected_like +(observed_dislike - expected_dislike)**2 / expected_dislike\n",
    "    return res"
   ]
  },
  {
   "cell_type": "code",
   "execution_count": 29,
   "metadata": {
    "collapsed": false,
    "scrolled": true
   },
   "outputs": [
    {
     "name": "stdout",
     "output_type": "stream",
     "text": [
      "5\n"
     ]
    }
   ],
   "source": [
    "result_chi = chi_sq_test(30, 40, 15, 15, 5)\n",
    "print result_chi"
   ]
  },
  {
   "cell_type": "code",
   "execution_count": 45,
   "metadata": {
    "collapsed": true
   },
   "outputs": [],
   "source": [
    "def rating(rating_ori, rating_mod): # the increase of user's rating for the pics after modification\n",
    "    ratio_increase = (rating_mod - rating_ori) / rating_ori\n",
    "    return [numpy.mean(ratio_increase), numpy.std(ratio_increase)]"
   ]
  },
  {
   "cell_type": "code",
   "execution_count": 46,
   "metadata": {
    "collapsed": false,
    "scrolled": true
   },
   "outputs": [
    {
     "name": "stdout",
     "output_type": "stream",
     "text": [
      "[1.0, 0.70710678118654757]\n"
     ]
    }
   ],
   "source": [
    "result_ratio = rating(numpy.array([2,3,3,4]), numpy.array([7,7,5,9]))\n",
    "print result_ratio"
   ]
  },
  {
   "cell_type": "code",
   "execution_count": null,
   "metadata": {
    "collapsed": true
   },
   "outputs": [],
   "source": []
  }
 ],
 "metadata": {
  "kernelspec": {
   "display_name": "Python 2",
   "language": "python",
   "name": "python2"
  },
  "language_info": {
   "codemirror_mode": {
    "name": "ipython",
    "version": 2
   },
   "file_extension": ".py",
   "mimetype": "text/x-python",
   "name": "python",
   "nbconvert_exporter": "python",
   "pygments_lexer": "ipython2",
   "version": "2.7.13"
  }
 },
 "nbformat": 4,
 "nbformat_minor": 2
}
